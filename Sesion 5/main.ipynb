{
 "cells": [
  {
   "cell_type": "code",
   "execution_count": 1,
   "metadata": {},
   "outputs": [],
   "source": [
    "import pandas as pd\n",
    "#llama la conexion que existe dentro de connection.py que existe dentro de la carpeta utils\n",
    "from utils import connection as conn\n",
    "from ETL import extract as ext\n",
    "from ETL import transform as t\n"
   ]
  },
  {
   "cell_type": "code",
   "execution_count": 2,
   "metadata": {},
   "outputs": [],
   "source": [
    "conn_retail_db = conn.connect_retail_db()\n",
    "conn_dw_retail = conn.connect_dw_retail()"
   ]
  },
  {
   "cell_type": "code",
   "execution_count": 3,
   "metadata": {},
   "outputs": [],
   "source": [
    "df_customer = ext.extract_table(\"customers\", conn_retail_db)\n",
    "df_orders = ext.extract_table(\"orders\", conn_retail_db)\n",
    "df_order_items = ext.extract_table(\"order_items\", conn_retail_db)\n",
    "df_products = ext.extract_table(\"products\", conn_retail_db)\n",
    "df_categories = ext.extract_table(\"categories\", conn_retail_db)\n",
    "df_departments = ext.extract_table(\"departments\", conn_retail_db)"
   ]
  },
  {
   "cell_type": "code",
   "execution_count": 4,
   "metadata": {},
   "outputs": [],
   "source": [
    "from ETL import load as l\n"
   ]
  },
  {
   "cell_type": "code",
   "execution_count": 5,
   "metadata": {},
   "outputs": [],
   "source": [
    "l.load_dw_retail('dimension_customer',conn_dw_retail, df_customer.drop('customer_password', axis=1))"
   ]
  },
  {
   "cell_type": "code",
   "execution_count": 6,
   "metadata": {},
   "outputs": [],
   "source": [
    "l.load_dw_retail('dimension_department',conn_dw_retail, df_departments)"
   ]
  },
  {
   "cell_type": "code",
   "execution_count": 7,
   "metadata": {},
   "outputs": [],
   "source": [
    "l.load_dw_retail('dimension_category',conn_dw_retail, df_categories)"
   ]
  },
  {
   "cell_type": "code",
   "execution_count": 8,
   "metadata": {},
   "outputs": [],
   "source": [
    "l.load_dw_retail('dimension_product',conn_dw_retail, df_products)"
   ]
  },
  {
   "cell_type": "code",
   "execution_count": 9,
   "metadata": {},
   "outputs": [],
   "source": [
    "l.load_dw_retail('dimension_order',conn_dw_retail, df_orders)\n"
   ]
  },
  {
   "cell_type": "code",
   "execution_count": 10,
   "metadata": {},
   "outputs": [],
   "source": [
    "l.load_dw_retail('dimension_order_item',conn_dw_retail, df_order_items)"
   ]
  },
  {
   "cell_type": "code",
   "execution_count": 11,
   "metadata": {},
   "outputs": [
    {
     "ename": "SyntaxError",
     "evalue": "unterminated string literal (detected at line 1) (3464642007.py, line 1)",
     "output_type": "error",
     "traceback": [
      "\u001b[0;36m  Cell \u001b[0;32mIn[11], line 1\u001b[0;36m\u001b[0m\n\u001b[0;31m    query = \"SELECT\u001b[0m\n\u001b[0m            ^\u001b[0m\n\u001b[0;31mSyntaxError\u001b[0m\u001b[0;31m:\u001b[0m unterminated string literal (detected at line 1)\n"
     ]
    }
   ],
   "source": [
    "query = \"SELECT\n",
    "    DISTINCT DATE_FORMAT(order_date, \"Y/m/d\") AS time_id,\n",
    "    YEAR(order_date) AS year,\n",
    "    QUARTER(order_date) AS quarter,\n",
    "    MONTH(order_date) AS month,\n",
    "    DAY(order_date) AS day,\n",
    "    DAYOFWEEK(order_date) AS day_of_week,\n",
    "    DAYOFYEAR(order_date) AS day_of_year,\n",
    "    WEEK(order_date) AS week_of_year,\n",
    "    CASE WHEN DAYOFWEEK(order_date) IN (1,7) THEN TRUE ELSE FALSE END AS is_weekend\n",
    "FROM retail_db.orders\"\n",
    "\n",
    "df_dimension_time = t.transform_time_from_order(query, conn_retail_db)\n",
    "df_dimension_time.head()"
   ]
  }
 ],
 "metadata": {
  "kernelspec": {
   "display_name": "Python 3 (ipykernel)",
   "language": "python",
   "name": "python3"
  },
  "language_info": {
   "codemirror_mode": {
    "name": "ipython",
    "version": 3
   },
   "file_extension": ".py",
   "mimetype": "text/x-python",
   "name": "python",
   "nbconvert_exporter": "python",
   "pygments_lexer": "ipython3",
   "version": "3.10.13"
  }
 },
 "nbformat": 4,
 "nbformat_minor": 2
}
